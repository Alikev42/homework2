{
 "metadata": {
  "language_info": {
   "codemirror_mode": {
    "name": "ipython",
    "version": 3
   },
   "file_extension": ".py",
   "mimetype": "text/x-python",
   "name": "python",
   "nbconvert_exporter": "python",
   "pygments_lexer": "ipython3",
   "version": "3.8.5-final"
  },
  "orig_nbformat": 2,
  "kernelspec": {
   "name": "python_defaultSpec_1599425661010",
   "display_name": "Python 3.8.5 32-bit"
  }
 },
 "nbformat": 4,
 "nbformat_minor": 2,
 "cells": [
  {
   "cell_type": "markdown",
   "metadata": {},
   "source": [
    "# Solutions"
   ]
  },
  {
   "cell_type": "code",
   "execution_count": null,
   "metadata": {},
   "outputs": [],
   "source": [
    "## Solution 1"
   ]
  },
  {
   "cell_type": "code",
   "execution_count": 45,
   "metadata": {
    "tags": []
   },
   "outputs": [
    {
     "output_type": "stream",
     "name": "stdout",
     "text": "Number              Square                Cube\nThe above line is stubbornly flush left in Jupyter Notebook but correct in Python.\nBelow are three methods for printing the column headers.\nMethod 1\n              Number              Square                Cube\n\n End of first method \n\nMethod 2\n              number              square                cube\n End of second method \n\nMethod 3\n..............\n              Number              Square                Cube\n                   0                   0                   0\n                   1                   1                   1\n                   2                   4                   8\n                   3                   9                  27\n                   4                  16                  64\n                   5                  25                 125\n"
    }
   ],
   "source": [
    "# Kevin R. Salger\n",
    "# IS 640 Homework 2, Sol'n 1\n",
    "################################################################\n",
    "\n",
    "# VARS\n",
    "BaseNum = 0     # integer, initial value = 0\n",
    "Count = 0       # integer, initial value = 0\n",
    "#Headings = f'{\"Number\":>20}' f'{\"Square\":>20}' f'{\"Cube\":>20}' \n",
    "Headings = (\"Number\", \"Square\", \"Cube\")\n",
    "Labels = (\"number\", \"square\", \"cube\")\n",
    "# End Declarations\n",
    "\n",
    "# BEGIN\n",
    "# Alternate method to print the column headings\n",
    "#print()\n",
    "print ('{:>20}' '{:>20}' '{:>20}'.format(Headings[0],Headings[1],Headings[2]))\n",
    "print ('The above line is stubbornly flush left in Jupyter Notebook but correct in Python.')\n",
    "# =-=-=-=-=-=-=-=-=-=-=-=-=-=-=-=-=-=-=-=-=-=-=-=-=-=-\n",
    "print ('Below are three methods for printing the column headers.')\n",
    "print ('Method 1')\n",
    "print ('{:>20}' '{:>20}' '{:>20}'.format(Headings[0],Headings[1],Headings[2]))\n",
    "print (\"\\n End of first method \\n\")\n",
    "# =-=-=-=-=-=-=-=-=-=-=-=-=-=-=-=-=-=-=-=-=-=-=-=-=-=-\n",
    "print ('Method 2')\n",
    "for Count in list(range(3)):\n",
    "    print ('{:>20}'.format(Labels[Count]), end=\"\")\n",
    "# End For Count loop\n",
    "print (\"\\n End of second method \\n\")\n",
    "# =-=-=-=-=-=-=-=-=-=-=-=-=-=-=-=-=-=-=-=-=-=-=-=-=-=-\n",
    "print ('Method 3')\n",
    "print('.'*14)  \n",
    "# # The following line formats correctly as long as there is a leading non-space character.  \n",
    "# Uncomment the previous line and re-run.  Number, Square, and Cube align correctly.  \n",
    "# The next line also formats correctly when run as a .py file instead of as a .ipynb file.\n",
    "print ('{:>20}' '{:>20}' '{:>20}'.format(Headings[0],Headings[1],Headings[2]))\n",
    "# =-=-=-=-=-=-=-=-=-=-=-=-=-=-=-=-=-=-=-=-=-=-=-=-=-=-\n",
    "for BaseNum in list(range(6)):\n",
    "    print ('{:20d}{:20d}{:20d}'.format(BaseNum, BaseNum**2, BaseNum**3))\n",
    "# end of for BaseNum loop\n",
    "# END"
   ]
  },
  {
   "cell_type": "code",
   "execution_count": null,
   "metadata": {},
   "outputs": [],
   "source": []
  },
  {
   "cell_type": "markdown",
   "metadata": {},
   "source": [
    "## Solution 2"
   ]
  },
  {
   "cell_type": "code",
   "execution_count": 33,
   "metadata": {
    "tags": []
   },
   "outputs": [
    {
     "output_type": "stream",
     "name": "stdout",
     "text": "A temperature of -40.00 degrees C = 9.78 degrees F.\nA temperature of -40.00 degrees C = 9.78 degrees F.\nA temperature of 0.00 degrees C = 32.00 degrees F.\nA temperature of 0.00 degrees C = 32.00 degrees F.\nA temperature of 40.00 degrees C = 54.22 degrees F.\nA temperature of 40.00 degrees C = 54.22 degrees F.\nA temperature of 100.00 degrees C = 87.56 degrees F.\nA temperature of 100.00 degrees C = 87.56 degrees F.\n"
    }
   ],
   "source": [
    "################################################################\n",
    "# Kevin R. Salger\n",
    "# IS 640 Homework 2, Sol'n 2\n",
    "# ################################################################\n",
    "\n",
    "# BEGIN of HW2, #2 Temperature Conversion\n",
    "# VARS\n",
    "TempCount = 0.0\n",
    "DegF = 0.0\n",
    "DegC = [-40.0, 0.0, 40.0, 100.0]\n",
    "# End VARS\n",
    "\n",
    "# BEGIN\n",
    "for TempCount in list(DegC):\n",
    "    DegF = (5/9)*TempCount + 32  # Pick either of the next two lines.  They work the same.\n",
    "    print ('A temperature of {:.2f} degrees C = {:.2f} degrees F.'.format(TempCount, DegF))\n",
    "    print (f'A temperature of {TempCount:.2f} degrees C = {DegF:.2f} degrees F.')\n",
    "# end of For TempCount loop\n",
    "\n",
    "# END"
   ]
  },
  {
   "cell_type": "markdown",
   "metadata": {},
   "source": [
    "## Solution 3"
   ]
  },
  {
   "cell_type": "code",
   "execution_count": 35,
   "metadata": {
    "tags": []
   },
   "outputs": [
    {
     "output_type": "stream",
     "name": "stdout",
     "text": "The sum is 7,000\nThe average is 2,333.33\nThe sum is 700\nThe average is 233.33\n"
    }
   ],
   "source": [
    "\n",
    "################################################################\n",
    "# Kevin R. Salger\n",
    "# IS 640 Homework 2, Sol'n 3\n",
    "# #  There are two versions of this program in the code.  \n",
    "################################################################\n",
    "\n",
    "# BEGIN of HW2, #3  Sum & Average\n",
    "\n",
    "# VARS Option 1 =-=-=-=-=-=-=-=-=-=-=-=-=-=-=-=-=-=-=-=-=-=-=-=-=-=-=-=\n",
    "UserInteger = [0, 0, 0]\n",
    "SumIntegers = 0\n",
    "AvgIntegers = 0.0\n",
    "# End VARS Option 1 \n",
    "\n",
    "# BEGIN Option 1 \n",
    "UserInteger[0] = int(input('Enter the first of three integers: '))\n",
    "UserInteger[1] = int(input('Enter the second of three integers: '))\n",
    "UserInteger[2] = int(input('Enter the third of three integers: '))\n",
    "\n",
    "SumIntegers = sum (UserInteger)\n",
    "AvgIntegers = SumIntegers/3\n",
    "\n",
    "print ('The sum is {:,}'.format(SumIntegers))\n",
    "print ('The average is {:,.2f}'.format(AvgIntegers))\n",
    "\n",
    "# END Option 1 =-=-=-=-=-=-=-=-=-=-=-=-=-=-=-=-=-=-=-=-=-=-=-=-=-=-=-=\n",
    "\n",
    "# VARS Option 2 =-=-=-=-=-=-=-=-=-=-=-=-=-=-=-=-=-=-=-=-=-=-=-=-=-=-=-=\n",
    "UserInt01 = 0\n",
    "UserInt02 = 0\n",
    "UserInt03 = 0\n",
    "SumIntegers = 0\n",
    "AvgIntegers = 0.0\n",
    "# End VARS Option 2 \n",
    "\n",
    "# BEGIN Option 2 \n",
    "UserInt01 = int(input('Enter the first of three integers: '))\n",
    "UserInt02 = int(input('Enter the second of three integers: '))\n",
    "UserInt03 = int(input('Enter the third of three integers: '))\n",
    "\n",
    "SumIntegers = UserInt01 + UserInt02 + UserInt03\n",
    "AvgIntegers = SumIntegers/3\n",
    "\n",
    "print ('The sum is {:,}'.format(SumIntegers))\n",
    "print ('The average is {:,.2f}'.format(AvgIntegers))\n",
    "\n",
    "# END Option 2 =-=-=-=-=-=-=-=-=-=-=-=-=-=-=-=-=-=-=-=-=-=-=-=-=-=-=-=\n",
    "\n",
    "# END"
   ]
  },
  {
   "cell_type": "code",
   "execution_count": null,
   "metadata": {},
   "outputs": [],
   "source": []
  }
 ]
}